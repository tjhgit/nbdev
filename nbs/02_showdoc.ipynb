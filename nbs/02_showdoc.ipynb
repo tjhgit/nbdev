{
 "cells": [
  {
   "cell_type": "code",
   "execution_count": null,
   "metadata": {
    "hide_input": true
   },
   "outputs": [
    {
     "name": "stdout",
     "output_type": "stream",
     "text": [
      "Cells will be exported to nbdev.showdoc,\n",
      "unless a different module is specified after an export flag: `%nbdev_export special.module`\n"
     ]
    }
   ],
   "source": [
    "from nbdev import *\n",
    "%nbdev_default_export showdoc"
   ]
  },
  {
   "cell_type": "code",
   "execution_count": null,
   "metadata": {},
   "outputs": [],
   "source": [
    "%nbdev_export\n",
    "from nbdev.imports import *\n",
    "from nbdev.export import *\n",
    "from nbdev.sync import *\n",
    "from nbdev.flags import parse_line\n",
    "from nbconvert import HTMLExporter\n",
    "\n",
    "if IN_NOTEBOOK:\n",
    "    from IPython.display import Markdown,display\n",
    "    from IPython.core import page"
   ]
  },
  {
   "cell_type": "code",
   "execution_count": null,
   "metadata": {},
   "outputs": [
    {
     "data": {
      "text/plain": [
       "True"
      ]
     },
     "execution_count": null,
     "metadata": {},
     "output_type": "execute_result"
    }
   ],
   "source": [
    "IN_NOTEBOOK"
   ]
  },
  {
   "cell_type": "markdown",
   "metadata": {},
   "source": [
    "# Show doc\n",
    "\n",
    "> Functions to show the doc cells in notebooks"
   ]
  },
  {
   "cell_type": "markdown",
   "metadata": {},
   "source": [
    "All the automatic documentation of functions and classes are generated with the `show_doc` function. It displays the name, arguments, docstring along with a link to the source code on GitHub."
   ]
  },
  {
   "cell_type": "markdown",
   "metadata": {},
   "source": [
    "## Gather the information"
   ]
  },
  {
   "cell_type": "markdown",
   "metadata": {},
   "source": [
    "The inspect module lets us know quickly if an object is a function or a class but it doesn't distinguish classes and enums."
   ]
  },
  {
   "cell_type": "code",
   "execution_count": null,
   "metadata": {},
   "outputs": [],
   "source": [
    "%nbdev_export\n",
    "def is_enum(cls):\n",
    "    \"Check if `cls` is an enum or another type of class\"\n",
    "    return type(cls) in (enum.Enum, enum.EnumMeta)"
   ]
  },
  {
   "cell_type": "code",
   "execution_count": null,
   "metadata": {},
   "outputs": [],
   "source": [
    "e = enum.Enum('e', 'a b')\n",
    "assert is_enum(e)\n",
    "assert not is_enum(e.__class__)\n",
    "assert not is_enum(int)"
   ]
  },
  {
   "cell_type": "markdown",
   "metadata": {},
   "source": [
    "### Links to documentaion"
   ]
  },
  {
   "cell_type": "code",
   "execution_count": null,
   "metadata": {},
   "outputs": [],
   "source": [
    "%nbdev_export\n",
    "def is_lib_module(name):\n",
    "    \"Test if `name` is a library module.\"\n",
    "    if name.startswith('_'): return False\n",
    "    try:\n",
    "        _ = importlib.import_module(f'{Config().lib_name}.{name}')\n",
    "        return True\n",
    "    except: return False"
   ]
  },
  {
   "cell_type": "code",
   "execution_count": null,
   "metadata": {},
   "outputs": [],
   "source": [
    "assert is_lib_module('export')\n",
    "assert not is_lib_module('transform')"
   ]
  },
  {
   "cell_type": "code",
   "execution_count": null,
   "metadata": {},
   "outputs": [],
   "source": [
    "%nbdev_export\n",
    "_re_digits_first = re.compile('^[0-9]+[a-z]*_')"
   ]
  },
  {
   "cell_type": "code",
   "execution_count": null,
   "metadata": {},
   "outputs": [],
   "source": [
    "%nbdev_export\n",
    "def try_external_doc_link(name, packages): \n",
    "    \"Try to find a doc link for `name` in `packages`\"\n",
    "    for p in packages:\n",
    "        try:\n",
    "            mod = importlib.import_module(f\"{p}._nbdev\")\n",
    "            try_pack = source_nb(name, is_name=True, mod=mod)\n",
    "            if try_pack:\n",
    "                page = _re_digits_first.sub('', try_pack).replace('.ipynb', '')\n",
    "                return f'{mod.doc_url}{page}#{name}'\n",
    "        except: return None"
   ]
  },
  {
   "cell_type": "markdown",
   "metadata": {},
   "source": [
    "This function will only work for other packages built with `nbdev`."
   ]
  },
  {
   "cell_type": "code",
   "execution_count": null,
   "metadata": {},
   "outputs": [],
   "source": [
    "%nbdev_fastai2_test\n",
    "test_eq(try_external_doc_link('TfmdDL', ['fastai2']), 'https://dev.fast.ai/data.core#TfmdDL')\n",
    "test_eq(try_external_doc_link('Learner', ['fastai2']), 'https://dev.fast.ai/learner#Learner')\n",
    "#Only works for packages built with nbdev right now\n",
    "assert try_external_doc_link('Tensor', ['torch']) is None"
   ]
  },
  {
   "cell_type": "code",
   "execution_count": null,
   "metadata": {},
   "outputs": [],
   "source": [
    "%nbdev_export\n",
    "def doc_link(name, include_bt=True):\n",
    "    \"Create link to documentation for `name`.\"\n",
    "    cname = f'`{name}`' if include_bt else name\n",
    "    try:\n",
    "        #Link to modulesn\n",
    "        if is_lib_module(name): return f\"[{cname}]({Config().doc_baseurl}{name})\"\n",
    "        #Link to local functions\n",
    "        try_local = source_nb(name, is_name=True)\n",
    "        if try_local:\n",
    "            page = _re_digits_first.sub('', try_local).replace('.ipynb', '')\n",
    "            return f'[{cname}]({Config().doc_baseurl}{page}#{name})'\n",
    "        ##Custom links\n",
    "        mod = get_nbdev_module()\n",
    "        link = mod.custom_doc_links(name)\n",
    "        return f'[{cname}]({link})' if link is not None else cname\n",
    "    except: return cname"
   ]
  },
  {
   "cell_type": "markdown",
   "metadata": {},
   "source": [
    "This function will generate link for a module (pointing to the html conversion of the notebook that created it) and functions (pointing to the hmtl conversion of the notebook they were defined, with the first anchor found before). If the function/module is not part of the library you are writing, it will call the function `custom_doc_links` generated in `_nbdev` (you can customize it to your needs) and just return the name between backticks if that function returns `None`.\n",
    "\n",
    "For instance, fastai2 has the following `custom_doc_links` that tries to find a doc link for `name` in fastcore then nbdev (in this order):\n",
    "``` python\n",
    "def custom_doc_links(name): \n",
    "    from nbdev.showdoc import try_external_doc_link\n",
    "    return try_external_doc_link(name, ['fastcore', 'nbdev'])\n",
    "```"
   ]
  },
  {
   "cell_type": "code",
   "execution_count": null,
   "metadata": {},
   "outputs": [],
   "source": [
    "test_eq(doc_link('export'), f'[`export`](/export)')\n",
    "test_eq(doc_link('DocsTestClass'), f'[`DocsTestClass`](/export#DocsTestClass)')\n",
    "test_eq(doc_link('DocsTestClass.test'), f'[`DocsTestClass.test`](/export#DocsTestClass.test)')\n",
    "test_eq(doc_link('Tenso'),'`Tenso`')\n",
    "test_eq(doc_link('_nbdev'), f'`_nbdev`')\n",
    "test_eq(doc_link('__main__'), f'`__main__`')"
   ]
  },
  {
   "cell_type": "code",
   "execution_count": null,
   "metadata": {},
   "outputs": [],
   "source": [
    "%nbdev_export\n",
    "_re_backticks = re.compile(r\"\"\"\n",
    "# Catches any link of the form \\[`obj`\\](old_link) or just `obj`,\n",
    "#   to either update old links or add the link to the docs of obj\n",
    "\\[`      #     Opening [ and `\n",
    "([^`]*)  #     Catching group with anything but a `\n",
    "`\\]      #     ` then closing ]\n",
    "(?:      #     Beginning of non-catching group\n",
    "\\(       #       Opening (\n",
    "[^)]*    #       Anything but a closing )\n",
    "\\)       #       Closing )\n",
    ")        #     End of non-catching group\n",
    "|        # OR\n",
    "`        #     Opening `\n",
    "([^`]*)  #       Anything but a `\n",
    "`        #     Closing `\n",
    "\"\"\", re.VERBOSE)"
   ]
  },
  {
   "cell_type": "code",
   "execution_count": null,
   "metadata": {},
   "outputs": [],
   "source": [
    "%nbdev_export\n",
    "def add_doc_links(text):\n",
    "    \"Search for doc links for any item between backticks in `text` and isnter them\"\n",
    "    def _replace_link(m): return doc_link(m.group(1) or m.group(2))\n",
    "    return _re_backticks.sub(_replace_link, text)"
   ]
  },
  {
   "cell_type": "markdown",
   "metadata": {},
   "source": [
    "This function not only add links to backtick keywords, it also update the links that are already in the text (in case they have changed)."
   ]
  },
  {
   "cell_type": "code",
   "execution_count": null,
   "metadata": {},
   "outputs": [],
   "source": [
    "tst = add_doc_links('This is an example of `DocsTestClass`')\n",
    "test_eq(tst, \"This is an example of [`DocsTestClass`](/export#DocsTestClass)\")\n",
    "tst = add_doc_links('This is an example of [`DocsTestClass`](old_link.html)')\n",
    "test_eq(tst, \"This is an example of [`DocsTestClass`](/export#DocsTestClass)\")"
   ]
  },
  {
   "cell_type": "markdown",
   "metadata": {},
   "source": [
    "### Links to source"
   ]
  },
  {
   "cell_type": "code",
   "execution_count": null,
   "metadata": {},
   "outputs": [],
   "source": [
    "%nbdev_export\n",
    "def _is_type_dispatch(x): return type(x).__name__ == \"TypeDispatch\"\n",
    "def _unwrapped_type_dispatch_func(x): return x.first() if _is_type_dispatch(x) else x\n",
    "\n",
    "def _is_property(x): return type(x)==property\n",
    "def _has_property_getter(x): return _is_property(x) and hasattr(x, 'fget') and hasattr(x.fget, 'func')\n",
    "def _property_getter(x): return x.fget.func if _has_property_getter(x) else x\n",
    "\n",
    "def _unwrapped_func(x):\n",
    "    x = _unwrapped_type_dispatch_func(x)\n",
    "    x = _property_getter(x)\n",
    "    return x"
   ]
  },
  {
   "cell_type": "code",
   "execution_count": null,
   "metadata": {},
   "outputs": [],
   "source": [
    "%nbdev_export\n",
    "def get_source_link(func):\n",
    "    \"Return link to `func` in source code\"\n",
    "    func = _unwrapped_func(func)\n",
    "    try: line = inspect.getsourcelines(func)[1]\n",
    "    except Exception: return ''\n",
    "    mod = inspect.getmodule(func)\n",
    "    module = mod.__name__.replace('.', '/') + '.py'\n",
    "    try:\n",
    "        nbdev_mod = importlib.import_module(mod.__package__.split('.')[0] + '._nbdev')\n",
    "        return f\"{nbdev_mod.git_url}{module}#L{line}\"\n",
    "    except: return f\"{module}#L{line}\""
   ]
  },
  {
   "cell_type": "markdown",
   "metadata": {},
   "source": [
    "Be sure to properly set the `git_url` in setting.ini (derived from `lib_name` and `branch` on top of the prefix you will need to adapt) so that those links are correct."
   ]
  },
  {
   "cell_type": "code",
   "execution_count": null,
   "metadata": {},
   "outputs": [],
   "source": [
    "%nbdev_hide\n",
    "assert get_source_link(DocsTestClass.test).startswith(Config().git_url + 'nbdev/export.py')"
   ]
  },
  {
   "cell_type": "code",
   "execution_count": null,
   "metadata": {},
   "outputs": [],
   "source": [
    "%nbdev_hide\n",
    "%nbdev_fastai2_test\n",
    "from fastcore.foundation import L\n",
    "assert get_source_link(L).startswith(\"https://github.com/fastai/fastcore/tree/master/fastcore/foundation.py\")"
   ]
  },
  {
   "cell_type": "markdown",
   "metadata": {},
   "source": [
    "As important as the source code, we want to quickly jump to where the function is defined when we are in a development notebook."
   ]
  },
  {
   "cell_type": "code",
   "execution_count": null,
   "metadata": {},
   "outputs": [],
   "source": [
    "%nbdev_export\n",
    "_re_header = re.compile(r\"\"\"\n",
    "# Catches any header in markdown with the title in group 1\n",
    "^\\s*  # Beginning of text followed by any number of whitespace\n",
    "\\#+   # One # or more\n",
    "\\s*   # Any number of whitespace\n",
    "(.*)  # Catching group with anything\n",
    "$     # End of text\n",
    "\"\"\", re.VERBOSE)"
   ]
  },
  {
   "cell_type": "code",
   "execution_count": null,
   "metadata": {},
   "outputs": [],
   "source": [
    "%nbdev_export\n",
    "def get_nb_source_link(func, local=False, is_name=None):\n",
    "    \"Return a link to the notebook where `func` is defined.\"\n",
    "    func = _unwrapped_type_dispatch_func(func)\n",
    "    pref = '' if local else Config().git_url.replace('github.com', 'nbviewer.jupyter.org/github')+ Config().nbs_path.name+'/'\n",
    "    is_name = is_name or isinstance(func, str)\n",
    "    src = source_nb(func, is_name=is_name, return_all=True)\n",
    "    if src is None: return '' if is_name else get_source_link(func)\n",
    "    find_name,nb_name = src\n",
    "    nb = read_nb(nb_name)\n",
    "    pat = re.compile(f'^{find_name}\\s+=|^(def|class)\\s+{find_name}\\s*\\(', re.MULTILINE)\n",
    "    if len(find_name.split('.')) == 2:\n",
    "        clas,func = find_name.split('.')\n",
    "        pat2 = re.compile(f'@patch\\s*\\ndef\\s+{func}\\s*\\([^:]*:\\s*{clas}\\s*(?:,|\\))')\n",
    "    else: pat2 = None\n",
    "    for i,cell in enumerate(nb['cells']):\n",
    "        if cell['cell_type'] == 'code':\n",
    "            if re.search(pat, cell['source']):  break\n",
    "            if pat2 is not None and re.search(pat2, cell['source']): break\n",
    "    if re.search(pat, cell['source']) is None and (pat2 is not None and re.search(pat2, cell['source']) is None):\n",
    "        return '' if is_name else get_function_source(func)\n",
    "    header_pat = re.compile(r'^\\s*#+\\s*(.*)$')\n",
    "    while i >= 0:\n",
    "        cell = nb['cells'][i]\n",
    "        if cell['cell_type'] == 'markdown' and _re_header.search(cell['source']):\n",
    "            title = _re_header.search(cell['source']).groups()[0]\n",
    "            anchor = '-'.join([s for s in title.split(' ') if len(s) > 0])\n",
    "            return f'{pref}{nb_name}#{anchor}' \n",
    "        i-=1\n",
    "    return f'{pref}{nb_name}'"
   ]
  },
  {
   "cell_type": "code",
   "execution_count": null,
   "metadata": {},
   "outputs": [],
   "source": [
    "test_eq(get_nb_source_link(DocsTestClass.test), get_nb_source_link(DocsTestClass))\n",
    "test_eq(get_nb_source_link('DocsTestClass'), get_nb_source_link(DocsTestClass))\n",
    "\n",
    "NB_SOURCE_URL = Config().git_url.replace('github.com', 'nbviewer.jupyter.org/github')+ Config().nbs_path.name+'/'\n",
    "test_eq(get_nb_source_link(check_re), f'{NB_SOURCE_URL}00_export.ipynb#Finding-patterns')\n",
    "test_eq(get_nb_source_link(check_re, local=True), f'00_export.ipynb#Finding-patterns')"
   ]
  },
  {
   "cell_type": "markdown",
   "metadata": {},
   "source": [
    "You can either pass an object or its name (by default `is_name` will look if `func` is a string or not to decide if it's `True` or `False`, but you can override if there is some inconsistent behavior). `local` will return a local link, otherwise it will point to a the notebook on github wrapped in [nbviewer](https://nbviewer.jupyter.org/)."
   ]
  },
  {
   "cell_type": "code",
   "execution_count": null,
   "metadata": {},
   "outputs": [],
   "source": [
    "%nbdev_export\n",
    "def nb_source_link(func, is_name=None, disp=True):\n",
    "    \"Show a relative link to the notebook where `func` is defined\"\n",
    "    is_name = is_name or isinstance(func, str)\n",
    "    func_name = func if is_name else qual_name(func)\n",
    "    link = get_nb_source_link(func, local=True, is_name=is_name)\n",
    "    if disp: display(Markdown(f'[{func_name}]({link})'))\n",
    "    else: return link"
   ]
  },
  {
   "cell_type": "markdown",
   "metadata": {},
   "source": [
    "This function assumes you are in one notebook in the development folder, otherwise you can use `disp=False` to get the relative link. You can either pass an object or its name (by default `is_name` will look if `func` is a string or not to decide if it's `True` or `False`, but you can override if there is some inconsistent behavior)."
   ]
  },
  {
   "cell_type": "code",
   "execution_count": null,
   "metadata": {},
   "outputs": [],
   "source": [
    "test_eq(nb_source_link(check_re, disp=False), f'00_export.ipynb#Finding-patterns')\n",
    "test_eq(nb_source_link('check_re', disp=False), f'00_export.ipynb#Finding-patterns')"
   ]
  },
  {
   "cell_type": "markdown",
   "metadata": {},
   "source": [
    "## Show documentation"
   ]
  },
  {
   "cell_type": "code",
   "execution_count": null,
   "metadata": {},
   "outputs": [],
   "source": [
    "%nbdev_export\n",
    "from fastscript import Param"
   ]
  },
  {
   "cell_type": "code",
   "execution_count": null,
   "metadata": {},
   "outputs": [],
   "source": [
    "%nbdev_export\n",
    "def type_repr(t):\n",
    "    \"Representation of type `t` (in a type annotation)\"\n",
    "    if (isinstance(t, Param)): return f'\"{t.help}\"'\n",
    "    if getattr(t, '__args__', None):\n",
    "        args = t.__args__\n",
    "        if len(args)==2 and args[1] == type(None):\n",
    "            return f'`Optional`\\[{type_repr(args[0])}\\]'\n",
    "        reprs = ', '.join([type_repr(o) for o in args])\n",
    "        return f'{doc_link(get_name(t))}\\[{reprs}\\]'\n",
    "    else: return doc_link(get_name(t))"
   ]
  },
  {
   "cell_type": "markdown",
   "metadata": {},
   "source": [
    "The representation tries to find doc links if possible."
   ]
  },
  {
   "cell_type": "code",
   "execution_count": null,
   "metadata": {},
   "outputs": [],
   "source": [
    "tst = type_repr(Optional[DocsTestClass])\n",
    "test_eq(tst, '`Optional`\\\\[[`DocsTestClass`](/export#DocsTestClass)\\\\]')\n",
    "tst = type_repr(Union[int, float])\n",
    "test_eq(tst, '`Union`\\\\[`int`, `float`\\\\]')\n",
    "test_eq(type_repr(Param(\"description\")), '\"description\"')"
   ]
  },
  {
   "cell_type": "code",
   "execution_count": null,
   "metadata": {},
   "outputs": [],
   "source": [
    "%nbdev_export\n",
    "_arg_prefixes = {inspect._VAR_POSITIONAL: '\\*', inspect._VAR_KEYWORD:'\\*\\*'}\n",
    "\n",
    "def format_param(p):\n",
    "    \"Formats function param to `param:Type=val` with font weights: param=bold, val=italic\"\n",
    "    arg_prefix = _arg_prefixes.get(p.kind, '') # asterisk prefix for *args and **kwargs\n",
    "    res = f\"**{arg_prefix}`{p.name}`**\"\n",
    "    if hasattr(p, 'annotation') and p.annotation != p.empty: res += f':{type_repr(p.annotation)}'\n",
    "    if p.default != p.empty:\n",
    "        default = getattr(p.default, 'func', p.default) #For partials\n",
    "        default = getattr(default, '__name__', default) #Tries to find a name\n",
    "        if is_enum(default.__class__):                  #Enum have a crappy repr\n",
    "            res += f'=*`{default.__class__.__name__}.{default.name}`*'\n",
    "        else: res += f'=*`{repr(default)}`*'\n",
    "    return res"
   ]
  },
  {
   "cell_type": "code",
   "execution_count": null,
   "metadata": {},
   "outputs": [],
   "source": [
    "sig = inspect.signature(notebook2script)\n",
    "params = [format_param(p) for _,p in sig.parameters.items()]\n",
    "test_eq(params, ['**`fname`**=*`None`*', '**`silent`**=*`False`*', '**`to_dict`**=*`False`*'])"
   ]
  },
  {
   "cell_type": "code",
   "execution_count": null,
   "metadata": {},
   "outputs": [],
   "source": [
    "%nbdev_export\n",
    "def _format_enum_doc(enum, full_name):\n",
    "    \"Formatted `enum` definition to show in documentation\"\n",
    "    vals = ', '.join(enum.__members__.keys())\n",
    "    return f'<code>{full_name}</code>',f'<code>Enum</code> = [{vals}]'"
   ]
  },
  {
   "cell_type": "code",
   "execution_count": null,
   "metadata": {},
   "outputs": [],
   "source": [
    "%nbdev_hide\n",
    "tst =  _format_enum_doc(e, 'e')\n",
    "test_eq(tst, ('<code>e</code>', '<code>Enum</code> = [a, b]'))"
   ]
  },
  {
   "cell_type": "code",
   "execution_count": null,
   "metadata": {},
   "outputs": [],
   "source": [
    "%nbdev_export\n",
    "def _escape_chars(s):\n",
    "    return s.replace('_', '\\_')\n",
    "\n",
    "def _format_func_doc(func, full_name=None):\n",
    "    \"Formatted `func` definition to show in documentation\"\n",
    "    try:\n",
    "        sig = inspect.signature(func)\n",
    "        fmt_params = [format_param(param) for name,param\n",
    "                  in sig.parameters.items() if name not in ('self','cls')]\n",
    "    except: fmt_params = []\n",
    "    name = f'<code>{full_name or func.__name__}</code>'\n",
    "    arg_str = f\"({', '.join(fmt_params)})\"\n",
    "    f_name = f\"<code>class</code> {name}\" if inspect.isclass(func) else name\n",
    "    return f'{f_name}',f'{name}{arg_str}'"
   ]
  },
  {
   "cell_type": "code",
   "execution_count": null,
   "metadata": {},
   "outputs": [],
   "source": [
    "%nbdev_hide\n",
    "test_eq(_format_func_doc(notebook2script), ('<code>notebook2script</code>', \n",
    "   '<code>notebook2script</code>(**`fname`**=*`None`*, **`silent`**=*`False`*, **`to_dict`**=*`False`*)'))"
   ]
  },
  {
   "cell_type": "code",
   "execution_count": null,
   "metadata": {},
   "outputs": [],
   "source": [
    "%nbdev_export\n",
    "def _format_cls_doc(cls, full_name):\n",
    "    \"Formatted `cls` definition to show in documentation\"\n",
    "    parent_class = inspect.getclasstree([cls])[-1][0][1][0]\n",
    "    name,args = _format_func_doc(cls, full_name)\n",
    "    if parent_class != object: args += f' :: {doc_link(get_name(parent_class))}'\n",
    "    return name,args"
   ]
  },
  {
   "cell_type": "code",
   "execution_count": null,
   "metadata": {},
   "outputs": [],
   "source": [
    "%nbdev_hide\n",
    "test_eq(_format_cls_doc(DocsTestClass, 'DocsTestClass'), ('<code>class</code> <code>DocsTestClass</code>', \n",
    "                                                          '<code>DocsTestClass</code>()'))"
   ]
  },
  {
   "cell_type": "code",
   "execution_count": null,
   "metadata": {},
   "outputs": [],
   "source": [
    "%nbdev_export\n",
    "def show_doc(elt, doc_string=True, name=None, title_level=None, disp=True, default_cls_level=2):\n",
    "    \"Show documentation for element `elt`. Supported types: class, function, and enum.\"\n",
    "    elt = getattr(elt, '__func__', elt)\n",
    "    qname = name or qual_name(elt)\n",
    "    if inspect.isclass(elt):\n",
    "        if is_enum(elt): name,args = _format_enum_doc(elt, qname)\n",
    "        else:            name,args = _format_cls_doc (elt, qname)\n",
    "    elif callable(elt):  name,args = _format_func_doc(elt, qname)\n",
    "    else:                name,args = f\"<code>{qname}</code>\", ''\n",
    "    link = get_source_link(elt)\n",
    "    source_link = f'<a href=\"{link}\" class=\"source_link\" style=\"float:right\">[source]</a>'\n",
    "    title_level = title_level or (default_cls_level if inspect.isclass(elt) else 4)\n",
    "    doc =  f'<h{title_level} id=\"{qname}\" class=\"doc_header\">{name}{source_link}</h{title_level}>'\n",
    "    doc += f'\\n\\n> {args}\\n\\n' if len(args) > 0 else '\\n\\n'\n",
    "    if doc_string and inspect.getdoc(elt):\n",
    "        s = inspect.getdoc(elt)\n",
    "        # show_doc is used by doc so should not rely on Config\n",
    "        try: monospace = (Config().get('monospace_docstrings') == 'True')\n",
    "        except: monospace = False\n",
    "        # doc links don't work inside markdown pre/code blocks\n",
    "        s = f'```\\n{s}\\n```' if monospace else add_doc_links(s)\n",
    "        doc += s\n",
    "    if disp: display(Markdown(doc))\n",
    "    else: return doc"
   ]
  },
  {
   "cell_type": "markdown",
   "metadata": {},
   "source": [
    "`doc_string` determines if we show the docstring of the function or not. `name` can be used to provide an alternative to the name automatically found. `title_level` determines the level of the anchor (default 3 for classes and 4 for functions). If `disp` is `False`, the function returns the markdown code instead of displaying it. If `doc_string` is `True` and `monospace_docstrings` is set to `True` in `settings.ini`, the docstring of the function is formatted in a code block to preserve whitespace."
   ]
  },
  {
   "cell_type": "markdown",
   "metadata": {},
   "source": [
    "For instance\n",
    "```python\n",
    "show_doc(notebook2script)\n",
    "```\n",
    "will display"
   ]
  },
  {
   "cell_type": "code",
   "execution_count": null,
   "metadata": {},
   "outputs": [
    {
     "data": {
      "text/markdown": [
       "<h4 id=\"notebook2script\" class=\"doc_header\"><code>notebook2script</code><a href=\"https://github.com/fastai/nbdev/tree/master/nbdev/export.py#L435\" class=\"source_link\" style=\"float:right\">[source]</a></h4>\n",
       "\n",
       "> <code>notebook2script</code>(**`fname`**=*`None`*, **`silent`**=*`False`*, **`to_dict`**=*`False`*)\n",
       "\n",
       "Convert notebooks matching `fname` to modules"
      ],
      "text/plain": [
       "<IPython.core.display.Markdown object>"
      ]
     },
     "metadata": {},
     "output_type": "display_data"
    }
   ],
   "source": [
    "show_doc(notebook2script)"
   ]
  },
  {
   "cell_type": "markdown",
   "metadata": {},
   "source": [
    "### Integration test -"
   ]
  },
  {
   "cell_type": "code",
   "execution_count": null,
   "metadata": {},
   "outputs": [
    {
     "data": {
      "text/markdown": [
       "<h2 id=\"DocsTestClass\" class=\"doc_header\"><code>class</code> <code>DocsTestClass</code><a href=\"https://github.com/fastai/nbdev/tree/master/nbdev/export.py#L453\" class=\"source_link\" style=\"float:right\">[source]</a></h2>\n",
       "\n",
       "> <code>DocsTestClass</code>()\n",
       "\n"
      ],
      "text/plain": [
       "<IPython.core.display.Markdown object>"
      ]
     },
     "metadata": {},
     "output_type": "display_data"
    }
   ],
   "source": [
    "%nbdev_hide\n",
    "show_doc(DocsTestClass)"
   ]
  },
  {
   "cell_type": "code",
   "execution_count": null,
   "metadata": {},
   "outputs": [
    {
     "data": {
      "text/markdown": [
       "<h4 id=\"DocsTestClass.test\" class=\"doc_header\"><code>DocsTestClass.test</code><a href=\"https://github.com/fastai/nbdev/tree/master/nbdev/export.py#L454\" class=\"source_link\" style=\"float:right\">[source]</a></h4>\n",
       "\n",
       "> <code>DocsTestClass.test</code>()\n",
       "\n"
      ],
      "text/plain": [
       "<IPython.core.display.Markdown object>"
      ]
     },
     "metadata": {},
     "output_type": "display_data"
    }
   ],
   "source": [
    "%nbdev_hide\n",
    "show_doc(DocsTestClass.test)"
   ]
  },
  {
   "cell_type": "code",
   "execution_count": null,
   "metadata": {},
   "outputs": [
    {
     "data": {
      "text/markdown": [
       "<h4 id=\"check_re\" class=\"doc_header\"><code>check_re</code><a href=\"https://github.com/fastai/nbdev/tree/master/nbdev/export.py#L26\" class=\"source_link\" style=\"float:right\">[source]</a></h4>\n",
       "\n",
       "> <code>check_re</code>(**`cell`**, **`pat`**, **`code_only`**=*`True`*)\n",
       "\n",
       "Check if `cell` contains a line with regex `pat`"
      ],
      "text/plain": [
       "<IPython.core.display.Markdown object>"
      ]
     },
     "metadata": {},
     "output_type": "display_data"
    }
   ],
   "source": [
    "%nbdev_hide\n",
    "show_doc(check_re)"
   ]
  },
  {
   "cell_type": "code",
   "execution_count": null,
   "metadata": {},
   "outputs": [
    {
     "data": {
      "text/markdown": [
       "<h2 id=\"e\" class=\"doc_header\"><code>e</code><a href=\"\" class=\"source_link\" style=\"float:right\">[source]</a></h2>\n",
       "\n",
       "> <code>Enum</code> = [a, b]\n",
       "\n",
       "An enumeration."
      ],
      "text/plain": [
       "<IPython.core.display.Markdown object>"
      ]
     },
     "metadata": {},
     "output_type": "display_data"
    }
   ],
   "source": [
    "%nbdev_hide\n",
    "show_doc(e)"
   ]
  },
  {
   "cell_type": "code",
   "execution_count": null,
   "metadata": {},
   "outputs": [
    {
     "data": {
      "text/markdown": [
       "<h4 id=\"test_func_with_args_and_links\" class=\"doc_header\"><code>test_func_with_args_and_links</code><a href=\"__main__.py#L2\" class=\"source_link\" style=\"float:right\">[source]</a></h4>\n",
       "\n",
       "> <code>test_func_with_args_and_links</code>(**`foo`**, **`bar`**)\n",
       "\n",
       "Doc link: [`show_doc`](/showdoc#show_doc).\n",
       "Args:\n",
       "    foo: foo\n",
       "    bar: bar\n",
       "Returns:\n",
       "    None"
      ],
      "text/plain": [
       "<IPython.core.display.Markdown object>"
      ]
     },
     "metadata": {},
     "output_type": "display_data"
    },
    {
     "data": {
      "text/markdown": [
       "<h4 id=\"test_func_with_args_and_links\" class=\"doc_header\"><code>test_func_with_args_and_links</code><a href=\"__main__.py#L2\" class=\"source_link\" style=\"float:right\">[source]</a></h4>\n",
       "\n",
       "> <code>test_func_with_args_and_links</code>(**`foo`**, **`bar`**)\n",
       "\n",
       "```\n",
       "Doc link: `show_doc`.\n",
       "Args:\n",
       "    foo: foo\n",
       "    bar: bar\n",
       "Returns:\n",
       "    None\n",
       "```"
      ],
      "text/plain": [
       "<IPython.core.display.Markdown object>"
      ]
     },
     "metadata": {},
     "output_type": "display_data"
    }
   ],
   "source": [
    "%nbdev_hide\n",
    "def test_func_with_args_and_links(foo, bar):\n",
    "    \"\"\"\n",
    "    Doc link: `show_doc`.\n",
    "    Args:\n",
    "        foo: foo\n",
    "        bar: bar\n",
    "    Returns:\n",
    "        None\n",
    "    \"\"\"\n",
    "    pass\n",
    "\n",
    "show_doc(test_func_with_args_and_links)\n",
    "Config()[\"monospace_docstrings\"] = \"True\"\n",
    "show_doc(test_func_with_args_and_links)\n",
    "Config()[\"monospace_docstrings\"] = \"False\""
   ]
  },
  {
   "cell_type": "markdown",
   "metadata": {},
   "source": [
    "### Show doc magic flag"
   ]
  },
  {
   "cell_type": "code",
   "execution_count": null,
   "metadata": {},
   "outputs": [],
   "source": [
    "%nbdev_export\n",
    "def _extract_level(line, param_names, kwargs):\n",
    "    \"Add parameter to `kwargs` and return `line` with the parameter removed\"\n",
    "    m = re.search(f'(?:{param_names})[ \\t]*=[ \\t]*(\\d+)', line)\n",
    "    if not m: return line\n",
    "    kwargs[param_names.split('|')[0]] = int(m.group(1))\n",
    "    return m.re.sub('', line)\n",
    "    \n",
    "def parse_nbdev_show_doc(line, namespace=None):\n",
    "    \"Return a tuple of names, wild_names and kwargs found in a show doc `line`\"\n",
    "    names, wild_names, kwargs = [], [], {}\n",
    "    line = _extract_level(line, 'title_level', kwargs)\n",
    "    line = _extract_level(line, 'default_cls_level|default_cls_lvl|default_class_level', kwargs)\n",
    "    elts = parse_line(line)\n",
    "    def inspect_elt(i):\n",
    "        \"Find names of members of element `i`\"\n",
    "        wild_names.append(elts[i])\n",
    "        if not namespace: return\n",
    "        elt = eval(elts[i],namespace)\n",
    "        try:    members = [(name, getattr(elt,name)) for name in elt._docs]\n",
    "        except: members = [(name, value) for name, value in inspect.getmembers(elt) if (\n",
    "                (name.startswith('__') or not name.startswith('_')) and name in elt.__dict__ and\n",
    "                (callable(value) or isinstance(value, property)))]\n",
    "        for name, value in members: names.append(elts[i]+'.'+name)\n",
    "    pinned_name = None\n",
    "    for i, elt in enumerate(elts):\n",
    "        if not re.search('[^*.]', elt):\n",
    "            if '*' in elt: inspect_elt(i-1)\n",
    "            if '.' in elt: pinned_name = elts[i-1]\n",
    "        else: names.append(pinned_name+'.'+elt if pinned_name else elt)\n",
    "    return names, wild_names, kwargs"
   ]
  },
  {
   "cell_type": "markdown",
   "metadata": {},
   "source": [
    "Wild names directly preceed a `*`\n",
    "\n",
    "This function can be used to:\n",
    "- Statically parse a line (if `namespace` is not provided)\n",
    "    - In which case wild names will not be inspected\n",
    "    - So you might assume that docs will have been shown for all members of everything in `wild_names`\n",
    "- Dynamically parse a line \n",
    "    - Where we create and inpect \"live\" objects of wild names using the `namespace` provided"
   ]
  },
  {
   "cell_type": "markdown",
   "metadata": {},
   "source": [
    "%nbdev_hide\n",
    "\n",
    "`inspect_elt` tries to use `_docs` but makes no assumptions about what's in `_docs` - which is why we use `try`/`except` rather than `hasattr(elt,'_docs')`"
   ]
  },
  {
   "cell_type": "code",
   "execution_count": null,
   "metadata": {},
   "outputs": [],
   "source": [
    "for line, expected in [\n",
    "    ['', ([],[],{})],\n",
    "    ['a', (['a'],[],{})],\n",
    "    ['a b', (['a', 'b'],[],{})],\n",
    "    ['a,b', (['a', 'b'],[],{})],\n",
    "    ['A.a', (['A.a'],[],{})],\n",
    "    ['A.a b', (['A.a', 'b'],[],{})],\n",
    "    [',A.a, A.b,,,', (['A.a', 'A.b'],[],{})],\n",
    "    ['A . a', (['A', 'A.a'],[],{})],\n",
    "    ['A . a,b', (['A', 'A.a', 'A.b'],[],{})],\n",
    "    ['A . a b', (['A', 'A.a', 'A.b'],[],{})],\n",
    "    ['A . a B . a', (['A', 'A.a', 'A.B', 'B.a'],[],{})], # using multiple dots is not recommend\n",
    "    ['A *', (['A'],['A'],{})],\n",
    "    ['A * a B *', (['A', 'a', 'B'],['A', 'B'],{})],\n",
    "    ['  A  a B  *  ', (['A', 'a', 'B'],['B'],{})],\n",
    "    ['A *. _a', (['A', 'A._a'],['A'],{})],\n",
    "    ['A.a._a *', (['A.a._a'],['A.a._a'],{})],\n",
    "    ['arg=2', (['arg=2'],[],{})], # this would be a mistake\n",
    "    ['title_level=2 default_cls_level=1', ([],[],dict(title_level=2,default_cls_level=1))],\n",
    "    ['default_cls_lvl=2, title_level=1', ([],[],dict(title_level=1,default_cls_level=2))],\n",
    "    ['default_class_level=55', ([],[],dict(default_cls_level=55))],\n",
    "    ['A.a title_level=2 default_cls_level=1', (['A.a'],[],dict(title_level=2,default_cls_level=1))],\n",
    "    ['A * title_level=2 default_cls_level=1', (['A'],['A'],dict(title_level=2,default_cls_level=1))]]:\n",
    "    test_eq(parse_nbdev_show_doc(line), expected)\n",
    "    if not '*' in line: \n",
    "        # dynamic parse only makes a difference when using wildcard\n",
    "        test_eq(parse_nbdev_show_doc(line, globals()), expected)"
   ]
  },
  {
   "cell_type": "code",
   "execution_count": null,
   "metadata": {},
   "outputs": [],
   "source": [
    "try: parse_nbdev_show_doc('A *', globals()); call_failed=False\n",
    "except: call_failed=True\n",
    "assert call_failed, 'dynamic parse should fail because A does not exist'\n",
    "\n",
    "for line, expected in [\n",
    "    ['', ([],[],{})],\n",
    "    [',A.a, A.b,,,', (['A.a', 'A.b'],[],{})],\n",
    "    ['A . a', (['A', 'A.a'],[],{})],\n",
    "    ['ReTstFlags . findall search', (['ReTstFlags', 'ReTstFlags.findall', 'ReTstFlags.search'],[],{})],\n",
    "    ['ReTstFlags * ', (['ReTstFlags', 'ReTstFlags.__init__', 'ReTstFlags.findall', 'ReTstFlags.search'],['ReTstFlags'],{})],\n",
    "    ['ReTstFlags * a', (['ReTstFlags', 'ReTstFlags.__init__', 'ReTstFlags.findall', 'ReTstFlags.search', 'a'],['ReTstFlags'],{})],\n",
    "    ['ReTstFlags *. a', (['ReTstFlags', 'ReTstFlags.__init__', 'ReTstFlags.findall', 'ReTstFlags.search', 'ReTstFlags.a'],['ReTstFlags'],{})],\n",
    "    ['DocsTestClass * a', (['DocsTestClass', 'DocsTestClass.test', 'a'],['DocsTestClass'],{})]]:\n",
    "    test_eq(parse_nbdev_show_doc(line, globals()), expected)"
   ]
  },
  {
   "cell_type": "code",
   "execution_count": null,
   "metadata": {},
   "outputs": [],
   "source": [
    "%nbdev_export\n",
    "def nbdev_show_doc(line, local_ns):\n",
    "    \"\"\"Show documentation for one or more elements. Supported types: class, function, and enum.\n",
    "    To show doc for multiple elements and specify title level:\n",
    "        `%nbdev_show_doc name_1, name_2, title_level=3`.\n",
    "    To show doc for a class and some of its members and specify class level:\n",
    "        `%nbdev_show_doc MyClass . __init__, my_method, default_cls_level=3`\n",
    "    To show doc for a class and all of its \"public\" members:\n",
    "        `%nbdev_show_doc MyClass *`\"\"\"\n",
    "    names, wild_names, kwargs = parse_nbdev_show_doc(line, local_ns)\n",
    "    for k,v in kwargs.items():\n",
    "        if not 1 <= v <= 6: \n",
    "            print(f'UsageError: Invalid {k} \"{v}\". Usage `%nbdev_show_doc name_1 {k}=[int between 1 and 6]`')\n",
    "    if not names:\n",
    "        print(f'UsageError: List of names is missing. Usage `%nbdev_show_doc name_1, name_2`')\n",
    "    for name in names: show_doc(eval(name,local_ns), name=name, **kwargs)\n",
    "            \n",
    "if IN_IPYTHON:\n",
    "    from IPython.core.magic import register_line_magic, needs_local_scope\n",
    "    register_line_magic(needs_local_scope(nbdev_show_doc))"
   ]
  },
  {
   "cell_type": "markdown",
   "metadata": {},
   "source": [
    "- List of names can be space and/or comma separated.\n",
    "- Arguments cannot contain spaces. i.e. `title_level = 3` won't work\n",
    "    - `default_cls_lvl` and `default_class_level` are aliases for `default_cls_level`.\n",
    "- The `*` wildcard will show doc for\n",
    "    - everything in `_docs` if possible, or\n",
    "    - all members that\n",
    "        - are part of the class (i.e. methods defined in parent classes will not be shown),\n",
    "        - are classes, functions or properties and\n",
    "        - have names that do not start with `_`.\n",
    "\n",
    "If you want to show doc for a class and some of its members, the dot is important:\n",
    "\n",
    "Without a dot, `%nbdev_show_doc` will look for a thing called \"test\"\n",
    "\n",
    "```python\n",
    "test=\"i am not a method\"\n",
    "%nbdev_show_doc DocsTestClass test\n",
    "```"
   ]
  },
  {
   "cell_type": "code",
   "execution_count": null,
   "metadata": {},
   "outputs": [
    {
     "data": {
      "text/markdown": [
       "<h2 id=\"DocsTestClass\" class=\"doc_header\"><code>class</code> <code>DocsTestClass</code><a href=\"https://github.com/fastai/nbdev/tree/master/nbdev/export.py#L453\" class=\"source_link\" style=\"float:right\">[source]</a></h2>\n",
       "\n",
       "> <code>DocsTestClass</code>()\n",
       "\n"
      ],
      "text/plain": [
       "<IPython.core.display.Markdown object>"
      ]
     },
     "metadata": {},
     "output_type": "display_data"
    },
    {
     "data": {
      "text/markdown": [
       "<h4 id=\"test\" class=\"doc_header\"><code>test</code><a href=\"\" class=\"source_link\" style=\"float:right\">[source]</a></h4>\n",
       "\n",
       "str(object='') -> str\n",
       "str(bytes_or_buffer[, encoding[, errors]]) -> str\n",
       "\n",
       "Create a new string object from the given object. If encoding or\n",
       "errors is specified, then the object must expose a data buffer\n",
       "that will be decoded using the given encoding and error handler.\n",
       "Otherwise, returns the result of object.__str__() (if defined)\n",
       "or repr(object).\n",
       "encoding defaults to sys.getdefaultencoding().\n",
       "errors defaults to 'strict'."
      ],
      "text/plain": [
       "<IPython.core.display.Markdown object>"
      ]
     },
     "metadata": {},
     "output_type": "display_data"
    }
   ],
   "source": [
    "test=\"i am not a method\"\n",
    "%nbdev_show_doc DocsTestClass test"
   ]
  },
  {
   "cell_type": "markdown",
   "metadata": {},
   "source": [
    "With a dot, `%nbdev_show_doc` will look for an attribute of `DocsTestClass` called \"test\"\n",
    "\n",
    "```python\n",
    "%nbdev_show_doc DocsTestClass . test\n",
    "```"
   ]
  },
  {
   "cell_type": "code",
   "execution_count": null,
   "metadata": {},
   "outputs": [
    {
     "data": {
      "text/markdown": [
       "<h2 id=\"DocsTestClass\" class=\"doc_header\"><code>class</code> <code>DocsTestClass</code><a href=\"https://github.com/fastai/nbdev/tree/master/nbdev/export.py#L453\" class=\"source_link\" style=\"float:right\">[source]</a></h2>\n",
       "\n",
       "> <code>DocsTestClass</code>()\n",
       "\n"
      ],
      "text/plain": [
       "<IPython.core.display.Markdown object>"
      ]
     },
     "metadata": {},
     "output_type": "display_data"
    },
    {
     "data": {
      "text/markdown": [
       "<h4 id=\"DocsTestClass.test\" class=\"doc_header\"><code>DocsTestClass.test</code><a href=\"https://github.com/fastai/nbdev/tree/master/nbdev/export.py#L454\" class=\"source_link\" style=\"float:right\">[source]</a></h4>\n",
       "\n",
       "> <code>DocsTestClass.test</code>()\n",
       "\n"
      ],
      "text/plain": [
       "<IPython.core.display.Markdown object>"
      ]
     },
     "metadata": {},
     "output_type": "display_data"
    }
   ],
   "source": [
    "%nbdev_show_doc DocsTestClass . test"
   ]
  },
  {
   "cell_type": "markdown",
   "metadata": {},
   "source": [
    "Using `*.` together allows you to show doc for a class, all of its \"public\" members and methods defined by a parent class etc\n",
    "\n",
    "```python\n",
    "%nbdev_show_doc DocsTestClass *. __init__ default_cls_level=3\n",
    "```"
   ]
  },
  {
   "cell_type": "code",
   "execution_count": null,
   "metadata": {},
   "outputs": [
    {
     "data": {
      "text/markdown": [
       "<h3 id=\"DocsTestClass\" class=\"doc_header\"><code>class</code> <code>DocsTestClass</code><a href=\"https://github.com/fastai/nbdev/tree/master/nbdev/export.py#L453\" class=\"source_link\" style=\"float:right\">[source]</a></h3>\n",
       "\n",
       "> <code>DocsTestClass</code>()\n",
       "\n"
      ],
      "text/plain": [
       "<IPython.core.display.Markdown object>"
      ]
     },
     "metadata": {},
     "output_type": "display_data"
    },
    {
     "data": {
      "text/markdown": [
       "<h4 id=\"DocsTestClass.test\" class=\"doc_header\"><code>DocsTestClass.test</code><a href=\"https://github.com/fastai/nbdev/tree/master/nbdev/export.py#L454\" class=\"source_link\" style=\"float:right\">[source]</a></h4>\n",
       "\n",
       "> <code>DocsTestClass.test</code>()\n",
       "\n"
      ],
      "text/plain": [
       "<IPython.core.display.Markdown object>"
      ]
     },
     "metadata": {},
     "output_type": "display_data"
    },
    {
     "data": {
      "text/markdown": [
       "<h4 id=\"DocsTestClass.__init__\" class=\"doc_header\"><code>DocsTestClass.__init__</code><a href=\"\" class=\"source_link\" style=\"float:right\">[source]</a></h4>\n",
       "\n",
       "> <code>DocsTestClass.__init__</code>(**\\*`args`**, **\\*\\*`kwargs`**)\n",
       "\n",
       "Initialize self.  See help(type(self)) for accurate signature."
      ],
      "text/plain": [
       "<IPython.core.display.Markdown object>"
      ]
     },
     "metadata": {},
     "output_type": "display_data"
    }
   ],
   "source": [
    "%nbdev_show_doc DocsTestClass *. __init__ default_cls_level=3"
   ]
  },
  {
   "cell_type": "code",
   "execution_count": null,
   "metadata": {},
   "outputs": [
    {
     "data": {
      "text/markdown": [
       "<h2 id=\"e\" class=\"doc_header\"><code>e</code><a href=\"\" class=\"source_link\" style=\"float:right\">[source]</a></h2>\n",
       "\n",
       "> <code>Enum</code> = [a, b]\n",
       "\n",
       "An enumeration."
      ],
      "text/plain": [
       "<IPython.core.display.Markdown object>"
      ]
     },
     "metadata": {},
     "output_type": "display_data"
    },
    {
     "data": {
      "text/markdown": [
       "<h2 id=\"DocsTestClass\" class=\"doc_header\"><code>class</code> <code>DocsTestClass</code><a href=\"https://github.com/fastai/nbdev/tree/master/nbdev/export.py#L453\" class=\"source_link\" style=\"float:right\">[source]</a></h2>\n",
       "\n",
       "> <code>DocsTestClass</code>()\n",
       "\n"
      ],
      "text/plain": [
       "<IPython.core.display.Markdown object>"
      ]
     },
     "metadata": {},
     "output_type": "display_data"
    },
    {
     "data": {
      "text/markdown": [
       "<h4 id=\"DocsTestClass.test\" class=\"doc_header\"><code>DocsTestClass.test</code><a href=\"https://github.com/fastai/nbdev/tree/master/nbdev/export.py#L454\" class=\"source_link\" style=\"float:right\">[source]</a></h4>\n",
       "\n",
       "> <code>DocsTestClass.test</code>()\n",
       "\n"
      ],
      "text/plain": [
       "<IPython.core.display.Markdown object>"
      ]
     },
     "metadata": {},
     "output_type": "display_data"
    },
    {
     "data": {
      "text/markdown": [
       "<h4 id=\"check_re\" class=\"doc_header\"><code>check_re</code><a href=\"https://github.com/fastai/nbdev/tree/master/nbdev/export.py#L26\" class=\"source_link\" style=\"float:right\">[source]</a></h4>\n",
       "\n",
       "> <code>check_re</code>(**`cell`**, **`pat`**, **`code_only`**=*`True`*)\n",
       "\n",
       "Check if `cell` contains a line with regex `pat`"
      ],
      "text/plain": [
       "<IPython.core.display.Markdown object>"
      ]
     },
     "metadata": {},
     "output_type": "display_data"
    },
    {
     "data": {
      "text/markdown": [
       "<h2 id=\"str\" class=\"doc_header\"><code>class</code> <code>str</code><a href=\"\" class=\"source_link\" style=\"float:right\">[source]</a></h2>\n",
       "\n",
       "> <code>str</code>()\n",
       "\n",
       "str(object='') -> str\n",
       "str(bytes_or_buffer[, encoding[, errors]]) -> str\n",
       "\n",
       "Create a new string object from the given object. If encoding or\n",
       "errors is specified, then the object must expose a data buffer\n",
       "that will be decoded using the given encoding and error handler.\n",
       "Otherwise, returns the result of object.__str__() (if defined)\n",
       "or repr(object).\n",
       "encoding defaults to sys.getdefaultencoding().\n",
       "errors defaults to 'strict'."
      ],
      "text/plain": [
       "<IPython.core.display.Markdown object>"
      ]
     },
     "metadata": {},
     "output_type": "display_data"
    },
    {
     "data": {
      "text/markdown": [
       "<h4 id=\"IN_NOTEBOOK\" class=\"doc_header\"><code>IN_NOTEBOOK</code><a href=\"\" class=\"source_link\" style=\"float:right\">[source]</a></h4>\n",
       "\n",
       "bool(x) -> bool\n",
       "\n",
       "Returns True when the argument x is true, False otherwise.\n",
       "The builtins True and False are the only two instances of the class bool.\n",
       "The class bool is a subclass of the class int, and cannot be subclassed."
      ],
      "text/plain": [
       "<IPython.core.display.Markdown object>"
      ]
     },
     "metadata": {},
     "output_type": "display_data"
    },
    {
     "data": {
      "text/markdown": [
       "<h2 id=\"DocsTestClass\" class=\"doc_header\"><code>class</code> <code>DocsTestClass</code><a href=\"https://github.com/fastai/nbdev/tree/master/nbdev/export.py#L453\" class=\"source_link\" style=\"float:right\">[source]</a></h2>\n",
       "\n",
       "> <code>DocsTestClass</code>()\n",
       "\n"
      ],
      "text/plain": [
       "<IPython.core.display.Markdown object>"
      ]
     },
     "metadata": {},
     "output_type": "display_data"
    },
    {
     "data": {
      "text/markdown": [
       "<h4 id=\"DocsTestClass.__init__\" class=\"doc_header\"><code>DocsTestClass.__init__</code><a href=\"\" class=\"source_link\" style=\"float:right\">[source]</a></h4>\n",
       "\n",
       "> <code>DocsTestClass.__init__</code>(**\\*`args`**, **\\*\\*`kwargs`**)\n",
       "\n",
       "Initialize self.  See help(type(self)) for accurate signature."
      ],
      "text/plain": [
       "<IPython.core.display.Markdown object>"
      ]
     },
     "metadata": {},
     "output_type": "display_data"
    }
   ],
   "source": [
    "%nbdev_hide\n",
    "# not recommended but you can pass lots things to `%nbdev_show_doc` at the same time\n",
    "%nbdev_show_doc e DocsTestClass * check_re str IN_NOTEBOOK DocsTestClass . __init__"
   ]
  },
  {
   "cell_type": "markdown",
   "metadata": {},
   "source": [
    "### The doc command"
   ]
  },
  {
   "cell_type": "code",
   "execution_count": null,
   "metadata": {},
   "outputs": [],
   "source": [
    "%nbdev_export\n",
    "def md2html(md):\n",
    "    \"Convert markdown `md` to HTML code\"\n",
    "    import nbconvert\n",
    "    if nbconvert.__version__ < '5.5.0': return HTMLExporter().markdown2html(md)\n",
    "    else: return HTMLExporter().markdown2html(collections.defaultdict(lambda: collections.defaultdict(dict)), md)"
   ]
  },
  {
   "cell_type": "code",
   "execution_count": null,
   "metadata": {},
   "outputs": [],
   "source": [
    "%nbdev_export\n",
    "def get_doc_link(func):\n",
    "    mod = inspect.getmodule(func)\n",
    "    module = mod.__name__.replace('.', '/') + '.py'\n",
    "    try:\n",
    "        nbdev_mod = importlib.import_module(mod.__package__.split('.')[0] + '._nbdev')\n",
    "        try_pack = source_nb(func, mod=nbdev_mod)\n",
    "        if try_pack:\n",
    "            page = '.'.join(try_pack.split('_')[1:]).replace('.ipynb', '')\n",
    "            return f'{nbdev_mod.doc_url}{page}#{qual_name(func)}'\n",
    "    except: return None"
   ]
  },
  {
   "cell_type": "code",
   "execution_count": null,
   "metadata": {},
   "outputs": [],
   "source": [
    "test_eq(get_doc_link(notebook2script), 'https://nbdev.fast.ai/export#notebook2script')"
   ]
  },
  {
   "cell_type": "code",
   "execution_count": null,
   "metadata": {},
   "outputs": [],
   "source": [
    "%nbdev_fastai2_test\n",
    "from fastai2.data.core import TfmdDL\n",
    "test_eq(get_doc_link(TfmdDL), 'https://dev.fast.ai/data.core#TfmdDL')"
   ]
  },
  {
   "cell_type": "code",
   "execution_count": null,
   "metadata": {},
   "outputs": [],
   "source": [
    "%nbdev_export\n",
    "def doc(elt):\n",
    "    \"Show `show_doc` info in preview window when used in a notebook\"\n",
    "    md = show_doc(elt, disp=False)\n",
    "    doc_link = get_doc_link(elt)\n",
    "    if doc_link is not None:\n",
    "        md += f'\\n\\n<a href=\"{doc_link}\" target=\"_blank\" rel=\"noreferrer noopener\">Show in docs</a>'\n",
    "    output = md2html(md)\n",
    "    if IN_COLAB: get_ipython().run_cell_magic(u'html', u'', output)\n",
    "    else:\n",
    "        try: page.page({'text/html': output})\n",
    "        except: display(Markdown(md))"
   ]
  },
  {
   "cell_type": "markdown",
   "metadata": {},
   "source": [
    "## Export -"
   ]
  },
  {
   "cell_type": "code",
   "execution_count": null,
   "metadata": {},
   "outputs": [
    {
     "name": "stdout",
     "output_type": "stream",
     "text": [
      "Converted 00_export.ipynb.\n",
      "Converted 01_sync.ipynb.\n",
      "Converted 02_showdoc.ipynb.\n",
      "Converted 03_export2html.ipynb.\n",
      "Converted 04_test.ipynb.\n",
      "Converted 05_merge.ipynb.\n",
      "Converted 06_cli.ipynb.\n",
      "Converted 07_clean.ipynb.\n",
      "Converted 08_flag_tests.ipynb.\n",
      "Converted 99_search.ipynb.\n",
      "Converted index.ipynb.\n",
      "Converted tutorial.ipynb.\n"
     ]
    }
   ],
   "source": [
    "%nbdev_hide\n",
    "notebook2script()"
   ]
  },
  {
   "cell_type": "code",
   "execution_count": null,
   "metadata": {},
   "outputs": [],
   "source": []
  }
 ],
 "metadata": {
  "jupytext": {
   "split_at_heading": true
  },
  "kernelspec": {
   "display_name": "Python 3",
   "language": "python",
   "name": "python3"
  }
 },
 "nbformat": 4,
 "nbformat_minor": 2
}
