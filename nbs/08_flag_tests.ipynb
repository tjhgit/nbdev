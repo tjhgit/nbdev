{
 "cells": [
  {
   "cell_type": "markdown",
   "metadata": {},
   "source": [
    "# Flags\n",
    "\n",
    "> Flags are custom ipython magics, that tell nbdev how to process cells in a notebook."
   ]
  },
  {
   "cell_type": "markdown",
   "metadata": {},
   "source": [
    "In this notebook, we test the flags defined in `flags.py` and show how you can start using them in your notebooks."
   ]
  },
  {
   "cell_type": "markdown",
   "metadata": {},
   "source": [
    "## Note: Magic flags are being introduced progressively\n",
    "\n",
    "In order to explore autocomplete and in-notebook help with magic flags we plan to;\n",
    "- start by making `%nbdev_export` available as an alternative to `#export`\n",
    "- support both comments and magic flags\n"
   ]
  },
  {
   "cell_type": "markdown",
   "metadata": {},
   "source": [
    "## Using magic flags"
   ]
  },
  {
   "cell_type": "markdown",
   "metadata": {},
   "source": [
    "You can start using magic flags in existing notebooks by running the `nbdev_upgrade` console command."
   ]
  },
  {
   "cell_type": "markdown",
   "metadata": {},
   "source": [
    "If you prefer not to use the `nbdev_upgrade` console command, you'll need to \"import\" flags before you can use them. Any nbdev import will import all flags via `nbdev.__init__.py`. So you could use\n",
    "- `import nbdev` or\n",
    "- `from nbdev.imports import *`\n",
    "\n",
    "but if you want the convenience of importing `show_doc` and `notebook2script` as well, use"
   ]
  },
  {
   "cell_type": "code",
   "execution_count": null,
   "metadata": {},
   "outputs": [],
   "source": [
    "from nbdev import *"
   ]
  },
  {
   "cell_type": "markdown",
   "metadata": {},
   "source": [
    "Once imported, you can explore the available flags and their documentation without leaving your notebook\n",
    "\n",
    "<img alt=\"Tab completion of nbdev magics\" width=\"900\" src=\"images/inspect_magics.png\" />\n",
    "\n",
    "Note: In the image above, we show some flags that have not yet been introduced to nbdev."
   ]
  },
  {
   "cell_type": "markdown",
   "metadata": {},
   "source": [
    "You can also see that some flags print warnings if used incorrectly\n",
    "\n",
    "<pre>\n",
    "&percnt;nbdev_export bad module name\n",
    "</pre>\n",
    "\n",
    "<pre>UsageError: module_name \"bad module name\" must not contain whitespace</pre>"
   ]
  },
  {
   "cell_type": "markdown",
   "metadata": {},
   "source": [
    "## Tests"
   ]
  },
  {
   "cell_type": "markdown",
   "metadata": {},
   "source": [
    "### We can test magics in ipython ..."
   ]
  },
  {
   "cell_type": "code",
   "execution_count": null,
   "metadata": {},
   "outputs": [],
   "source": [
    "from nbdev.imports import *\n",
    "from contextlib import redirect_stdout\n",
    "import io\n",
    "\n",
    "if IN_IPYTHON:\n",
    "    def test_flag_output(s, exp):\n",
    "        test_eq(s.getvalue().strip(), exp.strip())\n",
    "    s = io.StringIO()\n",
    "    with redirect_stdout(s):\n",
    "        %nbdev_export\n",
    "        test_flag_output(s, '')\n",
    "        %nbdev_export other.module\n",
    "        test_flag_output(s, '')\n",
    "        %nbdev_export bad module name\n",
    "        test_flag_output(s, 'UsageError: module_name \"bad module name\" must not contain whitespace')"
   ]
  },
  {
   "cell_type": "markdown",
   "metadata": {},
   "source": [
    "### ... but we need less code to test in normal python\n",
    "\n",
    "Note: We don't `del` the functions in `flags.py` so that we can test them here"
   ]
  },
  {
   "cell_type": "code",
   "execution_count": null,
   "metadata": {},
   "outputs": [],
   "source": [
    "def test_flag_output(f, line, exp):\n",
    "    \"Test that `f(line)` prints `exp` to stdout\"\n",
    "    s = io.StringIO()\n",
    "    with redirect_stdout(s): f(line)\n",
    "    test_eq(s.getvalue().strip(), exp.strip())\n",
    "\n",
    "from nbdev.flags import nbdev_default_export\n",
    "test_flag_output(nbdev_default_export, '', 'UsageError: module_name is missing. Usage `%nbdev_default_export module_name`')\n",
    "test_flag_output(nbdev_default_export, '  ', 'UsageError: module_name is missing. Usage `%nbdev_default_export module_name`')\n",
    "test_flag_output(nbdev_default_export, 'bad module name', 'UsageError: module_name \"bad module name\" must not contain whitespace')\n",
    "test_flag_output(nbdev_default_export, 'special.module', \n",
    "            'Cells will be exported to nbdev.special.module,\\n' +\n",
    "            'unless a different module is specified after an export flag: `%nbdev_export special.module`')\n",
    "\n",
    "from nbdev.flags import nbdev_export, nbdev_export_and_show, nbdev_export_internal\n",
    "for f in [nbdev_export, nbdev_export_and_show, nbdev_export_internal]:\n",
    "    test_flag_output(f, '', '')\n",
    "    test_flag_output(f, ' ', '')\n",
    "    test_flag_output(f, 'special.module', '')\n",
    "    test_flag_output(f, 'bad module name', 'UsageError: module_name \"bad module name\" must not contain whitespace')\n",
    "\n",
    "from nbdev.flags import nbdev_hide, nbdev_hide_input, nbdev_hide_output\n",
    "for f in [nbdev_hide, nbdev_hide_input, nbdev_hide_output]:\n",
    "    test_flag_output(f, '', '')\n",
    "    test_flag_output(f, 'anything', f'UsageError: Invalid option \"anything\". Usage `%{f.__name__}`')\n",
    "    \n",
    "from nbdev.flags import nbdev_default_class_level\n",
    "for i in range(1,7):\n",
    "    test_flag_output(nbdev_default_class_level, str(i), '')\n",
    "test_flag_output(nbdev_default_class_level, '0', 'UsageError: Invalid class level \"0\". Usage `%nbdev_default_class_level [int between 1 and 6]`')\n",
    "test_flag_output(nbdev_default_class_level, '7', 'UsageError: Invalid class level \"7\". Usage `%nbdev_default_class_level [int between 1 and 6]`')\n",
    "test_flag_output(nbdev_default_class_level, 'not_a_num', 'UsageError: Invalid class level \"not_a_num\". Usage `%nbdev_default_class_level [int between 1 and 6]`')\n",
    "\n",
    "from nbdev.flags import nbdev_fastai2_test\n",
    "test_flag_output(nbdev_fastai2_test, '', '')\n",
    "test_flag_output(nbdev_fastai2_test, ' ', '')\n",
    "test_flag_output(nbdev_fastai2_test, 'all', '')\n",
    "test_flag_output(nbdev_fastai2_test, 'All', 'UsageError: Invalid option \"All\". Usage `%nbdev_fastai2_test [all]`')\n",
    "\n",
    "from nbdev.flags import nbdev_collapse_input, nbdev_collapse_output\n",
    "for f in [nbdev_collapse_input, nbdev_collapse_output]:\n",
    "    test_flag_output(f, '', '')\n",
    "    test_flag_output(f, ' open ', '')\n",
    "    test_flag_output(f, 'open', '')\n",
    "    test_flag_output(f, 'OPEN', f'UsageError: Invalid option \"OPEN\". Usage `%{f.__name__} [open]`')"
   ]
  },
  {
   "cell_type": "code",
   "execution_count": null,
   "metadata": {},
   "outputs": [],
   "source": [
    "%nbdev_hide\n",
    "from nbdev.flags import parse_line\n",
    "for expected, line in [\n",
    "        [['name'], 'name'],\n",
    "        [['name', '\"name2\"'], 'name \"name2\"'],\n",
    "        [['\"name\"', 'name2'], '\"name\", name2'],\n",
    "        [['\"name\"', 'name2', 'name3'], '\"name\", name2 name3'],\n",
    "        [['\"name\"', 'name2', 'name3'], ' , , \"name\", , name2 name3,,  '],\n",
    "        [['\"name\"', 'name2'], '[\"name\", name2]'],\n",
    "        [['name', \"'name2'\"], \" [ name, 'name2' ]\"]]:\n",
    "    test_eq(expected, parse_line(line))"
   ]
  },
  {
   "cell_type": "code",
   "execution_count": null,
   "metadata": {},
   "outputs": [],
   "source": [
    "from nbdev.flags import nbdev_add2all\n",
    "fn = partial(nbdev_add2all, local_ns=globals())\n",
    "test_flag_output(fn, '', 'UsageError: List of names is missing. Usage `%nbdev_add2all name_1, name_2`')\n",
    "test_flag_output(fn, 'str int max', '')\n",
    "test_flag_output(fn, 'str,int,max,', '')\n",
    "test_flag_output(fn, 'str, int, max', '')\n",
    "test_flag_output(fn, ' [ str ,,,\"int\" max ]', '')\n",
    "test_flag_output(fn, '[str, \"int\", max ', 'UsageError: unexpected EOF while parsing (<string>, line 1)')\n",
    "test_flag_output(fn, '\"bad_name\" max', '')\n",
    "test_flag_output(fn, 'bad_name max', 'UsageError: name \\'bad_name\\' is not defined')\n",
    "test_flag_output(fn, '\"bad_name max', 'UsageError: EOL while scanning string literal (<string>, line 1)')"
   ]
  },
  {
   "cell_type": "code",
   "execution_count": null,
   "metadata": {},
   "outputs": [],
   "source": [
    "from nbdev.showdoc import nbdev_show_doc\n",
    "fn = partial(nbdev_show_doc, local_ns=globals())\n",
    "test_flag_output(fn, '', 'UsageError: List of names is missing. Usage `%nbdev_show_doc name_1, name_2`')\n",
    "test_flag_output(fn, 'title_level=1', 'UsageError: List of names is missing. Usage `%nbdev_show_doc name_1, name_2`')\n",
    "test_flag_output(fn, 'title_level=0 default_cls_level=2', \n",
    "\"\"\"UsageError: Invalid title_level \"0\". Usage `%nbdev_show_doc name_1 title_level=[int between 1 and 6]`\n",
    "UsageError: List of names is missing. Usage `%nbdev_show_doc name_1, name_2`\"\"\")\n",
    "test_flag_output(fn, 'title_level=1 default_cls_level=7', \n",
    "\"\"\"UsageError: Invalid default_cls_level \"7\". Usage `%nbdev_show_doc name_1 default_cls_level=[int between 1 and 6]`\n",
    "UsageError: List of names is missing. Usage `%nbdev_show_doc name_1, name_2`\"\"\")"
   ]
  },
  {
   "cell_type": "markdown",
   "metadata": {},
   "source": [
    "## Export -"
   ]
  },
  {
   "cell_type": "code",
   "execution_count": null,
   "metadata": {},
   "outputs": [
    {
     "name": "stdout",
     "output_type": "stream",
     "text": [
      "Converted 00_export.ipynb.\n",
      "Converted 01_sync.ipynb.\n",
      "Converted 02_showdoc.ipynb.\n",
      "Converted 03_export2html.ipynb.\n",
      "Converted 04_test.ipynb.\n",
      "Converted 05_merge.ipynb.\n",
      "Converted 06_cli.ipynb.\n",
      "Converted 07_clean.ipynb.\n",
      "Converted 08_flag_tests.ipynb.\n",
      "Converted 99_search.ipynb.\n",
      "Converted index.ipynb.\n",
      "Converted tutorial.ipynb.\n"
     ]
    }
   ],
   "source": [
    "%nbdev_hide\n",
    "notebook2script()"
   ]
  }
 ],
 "metadata": {
  "kernelspec": {
   "display_name": "Python 3",
   "language": "python",
   "name": "python3"
  }
 },
 "nbformat": 4,
 "nbformat_minor": 4
}
